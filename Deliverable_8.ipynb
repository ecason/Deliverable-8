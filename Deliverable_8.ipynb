{
  "nbformat": 4,
  "nbformat_minor": 0,
  "metadata": {
    "colab": {
      "provenance": []
    },
    "kernelspec": {
      "name": "python3",
      "display_name": "Python 3"
    },
    "language_info": {
      "name": "python"
    }
  },
  "cells": [
    {
      "cell_type": "code",
      "execution_count": 50,
      "metadata": {
        "id": "Dnolne9KhjuS"
      },
      "outputs": [],
      "source": [
        "import numpy as np"
      ]
    },
    {
      "cell_type": "code",
      "source": [
        "n = int(input('Enter a number between 5 and 15: '))"
      ],
      "metadata": {
        "colab": {
          "base_uri": "https://localhost:8080/"
        },
        "id": "SUWCh7-Upc7G",
        "outputId": "68e4951a-8f6a-4a14-a609-c4abc74072c9"
      },
      "execution_count": 56,
      "outputs": [
        {
          "name": "stdout",
          "output_type": "stream",
          "text": [
            "Enter a number between 5 and 15: 987\n"
          ]
        }
      ]
    },
    {
      "cell_type": "code",
      "source": [
        "while True:\n",
        "  if n < 5 or n > 15:\n",
        "    n = int(input('Enter a number between 5 and 15: '))\n",
        "  else:\n",
        "    break"
      ],
      "metadata": {
        "colab": {
          "base_uri": "https://localhost:8080/"
        },
        "id": "0GKR9SG_mhFb",
        "outputId": "4c20253e-4c2a-45ef-9f28-2f078ca6cccd"
      },
      "execution_count": 58,
      "outputs": [
        {
          "name": "stdout",
          "output_type": "stream",
          "text": [
            "Enter a number between 5 and 15: 10\n"
          ]
        }
      ]
    },
    {
      "cell_type": "code",
      "source": [
        "def random_list(n):\n",
        "    list = []\n",
        "    for i in range(n):\n",
        "      list.append(np.random.randint(10,50))\n",
        "    return list\n",
        "\n",
        "def sum_list(n):\n",
        "    sum = list.sum()\n",
        "    return sum"
      ],
      "metadata": {
        "id": "UIvvMmhVX48Y"
      },
      "execution_count": 59,
      "outputs": []
    },
    {
      "cell_type": "code",
      "source": [
        "list = random_list(n)\n",
        "list"
      ],
      "metadata": {
        "colab": {
          "base_uri": "https://localhost:8080/"
        },
        "id": "-kOUWWs4hqJu",
        "outputId": "ed6e3b1b-6f79-43a3-9de7-f3aea5e33b95"
      },
      "execution_count": 60,
      "outputs": [
        {
          "output_type": "execute_result",
          "data": {
            "text/plain": [
              "[41, 21, 14, 13, 22, 34, 30, 10, 33, 40]"
            ]
          },
          "metadata": {},
          "execution_count": 60
        }
      ]
    },
    {
      "cell_type": "code",
      "source": [
        "sum_list = sum(list)\n",
        "sum_list"
      ],
      "metadata": {
        "colab": {
          "base_uri": "https://localhost:8080/"
        },
        "id": "LakJdoF3huxw",
        "outputId": "76f98b08-ae90-4a65-ca3a-6c775f4a2a4a"
      },
      "execution_count": 61,
      "outputs": [
        {
          "output_type": "execute_result",
          "data": {
            "text/plain": [
              "258"
            ]
          },
          "metadata": {},
          "execution_count": 61
        }
      ]
    },
    {
      "cell_type": "code",
      "source": [],
      "metadata": {
        "id": "sJpi3VlFpBkv"
      },
      "execution_count": null,
      "outputs": []
    }
  ]
}